{
 "cells": [
  {
   "cell_type": "markdown",
   "id": "d7803ad5",
   "metadata": {},
   "source": [
    "# Question 1:\n",
    "\n",
    "Consider the following python module:"
   ]
  },
  {
   "cell_type": "code",
   "execution_count": 1,
   "id": "e038c2a9",
   "metadata": {},
   "outputs": [],
   "source": [
    "a = 0 \n",
    "def b():\n",
    "  global a\n",
    "  a = c(a)\n",
    "    \n",
    "def c(a):\n",
    " return a + 2"
   ]
  },
  {
   "cell_type": "markdown",
   "id": "5fd03cff",
   "metadata": {},
   "source": [
    "After importing the module into the interpreter, you execute:"
   ]
  },
  {
   "cell_type": "code",
   "execution_count": 2,
   "id": "5813baae",
   "metadata": {},
   "outputs": [
    {
     "data": {
      "text/plain": [
       "6"
      ]
     },
     "execution_count": 2,
     "metadata": {},
     "output_type": "execute_result"
    }
   ],
   "source": [
    "b()\n",
    "b()\n",
    "b()\n",
    "a"
   ]
  },
  {
   "cell_type": "markdown",
   "id": "99338ef6",
   "metadata": {},
   "source": [
    "What value is displayed when the last expression (a) is evaluated? Explain your answer by indicating what happens in every executed statement.\n",
    "\n",
    "b(): When it is called for the first time this function calls c(). The current value of c() is a, which is 0. The fuction c() adds 2 in to a. Hence the output is 2.\n",
    "b(): When this function is called for the second time, the function c() is called with its current value of a which is 2. The function c() again adds 2 to the input a and outputs the result as 4.\n",
    "b(): When this function is called for the third time, the function c() is called with its current value of a which is 4. The function c() again adds 2 to the input a and outputs the result as 6.\n",
    "a: In this step, it evaluated the current value of a which is 6."
   ]
  },
  {
   "cell_type": "markdown",
   "id": "e39e6d40",
   "metadata": {},
   "source": [
    "# Question 2:"
   ]
  },
  {
   "cell_type": "code",
   "execution_count": 3,
   "id": "eef68cd0",
   "metadata": {},
   "outputs": [],
   "source": [
    "def fileLength(filename):\n",
    "    try:\n",
    "        infile = open(filename)\n",
    "        contents = infile.read()\n",
    "        infile.close()\n",
    "        return len(contents)\n",
    "    except FileNotFoundError:\n",
    "        print(f\"Sorry the file {filename} cannot be found.\")"
   ]
  },
  {
   "cell_type": "code",
   "execution_count": 4,
   "id": "963fa60b",
   "metadata": {},
   "outputs": [
    {
     "data": {
      "text/plain": [
       "123"
      ]
     },
     "execution_count": 4,
     "metadata": {},
     "output_type": "execute_result"
    }
   ],
   "source": [
    "fileLength(r\"C:\\Users\\user\\Downloads\\len.txt\")"
   ]
  },
  {
   "cell_type": "code",
   "execution_count": 5,
   "id": "c33ba24c",
   "metadata": {},
   "outputs": [
    {
     "name": "stdout",
     "output_type": "stream",
     "text": [
      "Sorry the file len.txt cannot be found.\n"
     ]
    }
   ],
   "source": [
    "fileLength('len.txt')"
   ]
  },
  {
   "cell_type": "markdown",
   "id": "c617f37b",
   "metadata": {},
   "source": [
    "# Question 3:"
   ]
  },
  {
   "cell_type": "code",
   "execution_count": 6,
   "id": "8cdf42d8",
   "metadata": {},
   "outputs": [],
   "source": [
    "class Marsupial:\n",
    "    l=[]    \n",
    "    def put_in_pouch(self,x):\n",
    "        self.l.append(x)\n",
    "    def pouch_contents(self):\n",
    "        return self.l"
   ]
  },
  {
   "cell_type": "code",
   "execution_count": 7,
   "id": "b50d315d",
   "metadata": {},
   "outputs": [
    {
     "data": {
      "text/plain": [
       "['doll', 'firetruck', 'kitten']"
      ]
     },
     "execution_count": 7,
     "metadata": {},
     "output_type": "execute_result"
    }
   ],
   "source": [
    "m = Marsupial()\n",
    "m.put_in_pouch('doll')\n",
    "m.put_in_pouch('firetruck')\n",
    "m.put_in_pouch('kitten')\n",
    "m.pouch_contents()"
   ]
  },
  {
   "cell_type": "code",
   "execution_count": 8,
   "id": "ba382bb9",
   "metadata": {},
   "outputs": [],
   "source": [
    "class Kangaroo(Marsupial):\n",
    "    cx=0\n",
    "    cy=0\n",
    "    def __init__(self,x,y):\n",
    "        self.x=x\n",
    "        self.y=y\n",
    "    def put_in_pouch(self,x):\n",
    "        self.l.append(x)\n",
    "    def jump(self,dx,dy):\n",
    "        self.cx+=dx\n",
    "        self.cy+=dy\n",
    "    def __str__(self):\n",
    "        return \"I am a Kangaroo located at coordinates (\" + str(self.cx) + \",\" + str(self.cy) + \")\""
   ]
  },
  {
   "cell_type": "code",
   "execution_count": 9,
   "id": "995861a0",
   "metadata": {},
   "outputs": [
    {
     "data": {
      "text/plain": [
       "['doll', 'firetruck', 'kitten', 'doll', 'firetruck', 'kitten']"
      ]
     },
     "execution_count": 9,
     "metadata": {},
     "output_type": "execute_result"
    }
   ],
   "source": [
    "k = Kangaroo(0,0)\n",
    "k.put_in_pouch('doll')\n",
    "k.put_in_pouch('firetruck')\n",
    "k.put_in_pouch('kitten')\n",
    "k.pouch_contents()"
   ]
  },
  {
   "cell_type": "code",
   "execution_count": 10,
   "id": "2645426e",
   "metadata": {},
   "outputs": [
    {
     "name": "stdout",
     "output_type": "stream",
     "text": [
      "I am a Kangaroo located at coordinates (3,0)\n"
     ]
    }
   ],
   "source": [
    "k.jump(1,0)\n",
    "k.jump(1,0)\n",
    "k.jump(1,0)\n",
    "print(k)"
   ]
  },
  {
   "cell_type": "markdown",
   "id": "bba1cd78",
   "metadata": {},
   "source": [
    "# Question 4:\n",
    "\n",
    "Write function collatz() that takes a positive integer x as input and prints the Collatz sequence starting at x. A Collatz sequence is obtained by repeatedly applying this rule to the previous number x in the sequence: x = { 𝑥/2 𝑖𝑓 𝑥 𝑖𝑠 𝑒𝑣𝑒𝑛 3𝑥 + 1 𝑖𝑓 𝑥 𝑖𝑠 𝑜𝑑𝑑 Your function should stop when the sequence gets to number 1. Your implementation must be recursive, without any loops."
   ]
  },
  {
   "cell_type": "code",
   "execution_count": 11,
   "id": "65070c35",
   "metadata": {},
   "outputs": [],
   "source": [
    "def collatz(x):\n",
    "    print(x)\n",
    "    if x == 1:\n",
    "        return\n",
    "    elif x % 2 == 0:\n",
    "        collatz(x // 2)\n",
    "    else:\n",
    "        collatz(3 * x + 1)"
   ]
  },
  {
   "cell_type": "code",
   "execution_count": 12,
   "id": "e9fb6c27",
   "metadata": {},
   "outputs": [
    {
     "name": "stdout",
     "output_type": "stream",
     "text": [
      "1\n"
     ]
    }
   ],
   "source": [
    "collatz(1)"
   ]
  },
  {
   "cell_type": "code",
   "execution_count": 13,
   "id": "398dc1f8",
   "metadata": {},
   "outputs": [
    {
     "name": "stdout",
     "output_type": "stream",
     "text": [
      "10\n",
      "5\n",
      "16\n",
      "8\n",
      "4\n",
      "2\n",
      "1\n"
     ]
    }
   ],
   "source": [
    "collatz(10)"
   ]
  },
  {
   "cell_type": "markdown",
   "id": "7288522f",
   "metadata": {},
   "source": [
    "# Question 5:\n",
    "    \n",
    "Write a recursive method binary() that takes a non-negative integer n and prints the binary representation of integer n."
   ]
  },
  {
   "cell_type": "code",
   "execution_count": 14,
   "id": "a7dabd13",
   "metadata": {},
   "outputs": [],
   "source": [
    "def binary(a):\n",
    "    if a > 1:\n",
    "        binary(a//2)\n",
    "    print(a % 2, end='')"
   ]
  },
  {
   "cell_type": "code",
   "execution_count": 15,
   "id": "81f76d30",
   "metadata": {},
   "outputs": [
    {
     "name": "stdout",
     "output_type": "stream",
     "text": [
      "0"
     ]
    }
   ],
   "source": [
    "binary(0)"
   ]
  },
  {
   "cell_type": "code",
   "execution_count": 16,
   "id": "68c002b5",
   "metadata": {},
   "outputs": [
    {
     "name": "stdout",
     "output_type": "stream",
     "text": [
      "1"
     ]
    }
   ],
   "source": [
    "binary(1)"
   ]
  },
  {
   "cell_type": "code",
   "execution_count": 17,
   "id": "ea52e0a6",
   "metadata": {},
   "outputs": [
    {
     "name": "stdout",
     "output_type": "stream",
     "text": [
      "11"
     ]
    }
   ],
   "source": [
    "binary(3)"
   ]
  },
  {
   "cell_type": "code",
   "execution_count": 18,
   "id": "87caa7e0",
   "metadata": {},
   "outputs": [
    {
     "name": "stdout",
     "output_type": "stream",
     "text": [
      "1001"
     ]
    }
   ],
   "source": [
    "binary(9)"
   ]
  },
  {
   "cell_type": "markdown",
   "id": "2d1f9c20",
   "metadata": {},
   "source": [
    "# Question 6:\n",
    "    \n",
    "Implement a class named HeadingParser that can be used to parse an HTML document, and retrieve and print all the headings in the document. You should implement your class as a subclass of HTMLParser, defined in Standard Library module html.parser. When fed a string containing HTML code, your class should print the headings, one per line and in the order in which they appear in the document. Each heading should be indented as follows: an h1 heading should have indentation 0, and h2 heading should have indentation 1, etc. Test your implementation using w3c.html."
   ]
  },
  {
   "cell_type": "code",
   "execution_count": 19,
   "id": "1f3c73a9",
   "metadata": {},
   "outputs": [],
   "source": [
    "from html.parser import HTMLParser\n",
    "class LinkParser(HTMLParser):\n",
    "\n",
    "    def handle_starttag(self, tag, attrs):\n",
    "        'print value of href attribute if any'\n",
    "        if tag.startswith('h'):\n",
    "            print(tag)"
   ]
  },
  {
   "cell_type": "code",
   "execution_count": 20,
   "id": "d24eb63e",
   "metadata": {},
   "outputs": [
    {
     "name": "stdout",
     "output_type": "stream",
     "text": [
      "html\n",
      "head\n",
      "h1\n",
      "h2\n"
     ]
    }
   ],
   "source": [
    "infile = open(r\"C:\\Users\\user\\Downloads\\w3c.html\") \n",
    "content = infile.read() \n",
    "infile.close() \n",
    "linkparser = LinkParser() \n",
    "linkparser.feed(content)"
   ]
  },
  {
   "cell_type": "code",
   "execution_count": 22,
   "id": "f0d83132",
   "metadata": {},
   "outputs": [],
   "source": [
    "from html.parser import HTMLParser\n",
    "store=[]\n",
    "class HeadingParser(HTMLParser):\n",
    "    global store\n",
    "    def handle_starttag(self, tag, attrs):\n",
    "        store.append(tag)\n",
    "    def handle_data(self, data):\n",
    "        store.append(data)        \n",
    "    def handle_endtag(self,tag):\n",
    "        if(tag==\"html\"):\n",
    "            for val in store:\n",
    "                for tagno in ('h1','h2','h3','h4','h5','h6'):\n",
    "                    if(val==tagno):\n",
    "                        ind=store.index(tagno)\n",
    "                        print(store[ind+1],end=\"\\n\\t\")"
   ]
  },
  {
   "cell_type": "code",
   "execution_count": 23,
   "id": "6934aca0",
   "metadata": {},
   "outputs": [
    {
     "name": "stdout",
     "output_type": "stream",
     "text": [
      "W3C Mission\n",
      "\tPrinciples\n",
      "\t"
     ]
    }
   ],
   "source": [
    "infile = open(r\"C:\\Users\\user\\Downloads\\w3c.html\")\n",
    "content = infile.read()\n",
    "infile.close()\n",
    "hp = HeadingParser()\n",
    "hp.feed(content)"
   ]
  },
  {
   "cell_type": "markdown",
   "id": "e4d4d070",
   "metadata": {},
   "source": [
    "# Question 7:\n",
    "    \n",
    "Implement recursive function webdir() that takes as input: a URL (as a string) and non-negative integers depth and indent. Your function should visit every web page reachable from the starting URL web page in depth clicks or less, and print each web page's URL. As shown below, indentation, specified by indent, should be used to indicate the depth of a URL.\n",
    "\n",
    "webdir('http://reed.cs.depaul.edu/lperkovic/csc242/test1.html' , 2, 0) http://reed.cs.depaul.edu/lperkovic/csc242/test1.html http://reed.cs.depaul.edu/lperkovic/csc242/test2.html http://reed.cs.depaul.edu/lperkovic/csc242/test4.html http://reed.cs.depaul.edu/lperkovic/csc242/test3.html http://reed.cs.depaul.edu/lperkovic/csc242/test4.html"
   ]
  },
  {
   "cell_type": "code",
   "execution_count": 24,
   "id": "e5a2b571",
   "metadata": {},
   "outputs": [],
   "source": [
    "from urllib.request import urlopen\n",
    "from urllib.parse import urljoin\n",
    "from html.parser import HTMLParser\n",
    "\n",
    "class LinkParser(HTMLParser):\n",
    "    def _init_(self):\n",
    "        super()._init_()\n",
    "        self.links = []\n",
    "\n",
    "    def handle_starttag(self, tag, attrs):\n",
    "        if tag == 'a':\n",
    "            for attr in attrs:\n",
    "                if attr[0] == 'href':\n",
    "                    self.links.append(attr[1])\n",
    "\n",
    "def webdir(url, depth, indent):\n",
    "    if depth < 0:\n",
    "        return\n",
    "\n",
    "    print(' ' * indent + url)\n",
    "\n",
    "    try:\n",
    "        response = urlopen(url)\n",
    "    except:\n",
    "        return\n",
    "\n",
    "    parser = LinkParser()\n",
    "    parser.feed(response.read().decode())\n",
    "\n",
    "    for link in parser.links:\n",
    "        absolute_url = urljoin(url, link)\n",
    "        webdir(absolute_url, depth - 1, indent + 1)"
   ]
  },
  {
   "cell_type": "code",
   "execution_count": 25,
   "id": "497c6794",
   "metadata": {},
   "outputs": [
    {
     "name": "stdout",
     "output_type": "stream",
     "text": [
      "http://reed.cs.depaul.edu/lperkovic/csc242/test2.html\n"
     ]
    }
   ],
   "source": [
    "webdir('http://reed.cs.depaul.edu/lperkovic/csc242/test2.html', 2, 0)"
   ]
  },
  {
   "cell_type": "markdown",
   "id": "79fd4462",
   "metadata": {},
   "source": [
    "# Question 8:\n",
    "    \n",
    "Write SQL queries on the below database table that return:"
   ]
  },
  {
   "cell_type": "code",
   "execution_count": 26,
   "id": "61610c6d",
   "metadata": {},
   "outputs": [],
   "source": [
    "import sqlite3\n",
    "\n",
    "# connect to database\n",
    "conn = sqlite3.connect('weather3.db')\n",
    "\n",
    "# create cursor object\n",
    "c = conn.cursor()\n",
    "\n",
    "# create table \n",
    "c.execute('''CREATE TABLE weather(City TEXT,Country TEXT,Season TEXT,Temperature REAL,Rainfall REAL)''')\n",
    "\n",
    "# inserting data \n",
    "data = [('Mumbai', 'India', 'Winter', 24.8, 5.9),\n",
    "                ('Mumbai', 'India', 'Spring', 28.4, 16.2),\n",
    "                ('Mumbai', 'India', 'Summer', 27.9, 1549.4),\n",
    "                ('Mumbai', 'India', 'Fall', 27.6, 346.0),\n",
    "                ('London', 'United Kingdom', 'Winter', 4.2, 207.7),\n",
    "                ('London', 'United Kingdom', 'Spring', 8.3, 169.6),\n",
    "                ('London', 'United Kingdom', 'Summer', 15.7, 157.0),\n",
    "                ('London', 'United Kingdom', 'Fall', 10.4, 218.5),\n",
    "                ('Cairo', 'Egypt', 'Winter', 13.6, 16.5),\n",
    "                ('Cairo', 'Egypt', 'Spring', 20.7, 6.5),\n",
    "                ('Cairo', 'Egypt', 'Summer', 27.7, 0.1),\n",
    "                ('Cairo', 'Egypt', 'Fall', 22.2, 4.5)]\n",
    "c.executemany('INSERT INTO weather VALUES (?, ?, ?, ?, ?)', data)\n",
    "\n",
    "# commit changes and close connection\n",
    "conn.commit()\n",
    "conn.close()"
   ]
  },
  {
   "cell_type": "code",
   "execution_count": 27,
   "id": "82ca7a37",
   "metadata": {},
   "outputs": [],
   "source": [
    "import sqlite3\n",
    "\n",
    "# connect to database\n",
    "conn = sqlite3.connect('weather3.db')\n",
    "\n",
    "# create cursor object\n",
    "c = conn.cursor()\n"
   ]
  },
  {
   "cell_type": "markdown",
   "id": "cc225505",
   "metadata": {},
   "source": [
    "a) All the temperature data."
   ]
  },
  {
   "cell_type": "code",
   "execution_count": 28,
   "id": "8e5adfdf",
   "metadata": {},
   "outputs": [
    {
     "name": "stdout",
     "output_type": "stream",
     "text": [
      "[(24.8,), (28.4,), (27.9,), (27.6,), (4.2,), (8.3,), (15.7,), (10.4,), (13.6,), (20.7,), (27.7,), (22.2,)]\n"
     ]
    }
   ],
   "source": [
    "c.execute('SELECT Temperature FROM weather')\n",
    "temperature_data = c.fetchall()\n",
    "print(temperature_data)"
   ]
  },
  {
   "cell_type": "markdown",
   "id": "13d95dc7",
   "metadata": {},
   "source": [
    "b) All the cities, but without repetition."
   ]
  },
  {
   "cell_type": "code",
   "execution_count": 29,
   "id": "4a3bec26",
   "metadata": {},
   "outputs": [
    {
     "name": "stdout",
     "output_type": "stream",
     "text": [
      "[('Mumbai',), ('London',), ('Cairo',)]\n"
     ]
    }
   ],
   "source": [
    "c.execute('SELECT DISTINCT City FROM weather')\n",
    "cities = c.fetchall()\n",
    "print(cities)"
   ]
  },
  {
   "cell_type": "markdown",
   "id": "da6fc9b2",
   "metadata": {},
   "source": [
    "c) All the records for India."
   ]
  },
  {
   "cell_type": "code",
   "execution_count": 30,
   "id": "92eb4d1b",
   "metadata": {},
   "outputs": [
    {
     "name": "stdout",
     "output_type": "stream",
     "text": [
      "[('Mumbai', 'India', 'Winter', 24.8, 5.9), ('Mumbai', 'India', 'Spring', 28.4, 16.2), ('Mumbai', 'India', 'Summer', 27.9, 1549.4), ('Mumbai', 'India', 'Fall', 27.6, 346.0)]\n"
     ]
    }
   ],
   "source": [
    "c.execute(\"SELECT * FROM weather WHERE Country = 'India'\")\n",
    "india_records = c.fetchall()\n",
    "print(india_records)"
   ]
  },
  {
   "cell_type": "markdown",
   "id": "f0bb676e",
   "metadata": {},
   "source": [
    "d) All the Fall records."
   ]
  },
  {
   "cell_type": "code",
   "execution_count": 31,
   "id": "8302f5f8",
   "metadata": {},
   "outputs": [
    {
     "name": "stdout",
     "output_type": "stream",
     "text": [
      "[('Mumbai', 'India', 'Fall', 27.6, 346.0), ('London', 'United Kingdom', 'Fall', 10.4, 218.5), ('Cairo', 'Egypt', 'Fall', 22.2, 4.5)]\n"
     ]
    }
   ],
   "source": [
    "c.execute(\"SELECT * FROM weather WHERE Season = 'Fall'\")\n",
    "fall_records = c.fetchall()\n",
    "print(fall_records)"
   ]
  },
  {
   "cell_type": "markdown",
   "id": "6b247f9b",
   "metadata": {},
   "source": [
    "e) The city, country, and season for which the average rainfall is between 200 and 400 millimeters."
   ]
  },
  {
   "cell_type": "code",
   "execution_count": 32,
   "id": "5dee9915",
   "metadata": {},
   "outputs": [
    {
     "name": "stdout",
     "output_type": "stream",
     "text": [
      "[('London', 'United Kingdom', 'Fall'), ('London', 'United Kingdom', 'Winter'), ('Mumbai', 'India', 'Fall')]\n"
     ]
    }
   ],
   "source": [
    "c.execute(\"SELECT City, Country, Season FROM weather WHERE Rainfall BETWEEN 200 AND 400 GROUP BY City, Country, Season\")\n",
    "rainfall_records = c.fetchall()\n",
    "print(rainfall_records)"
   ]
  },
  {
   "cell_type": "markdown",
   "id": "313e9821",
   "metadata": {},
   "source": [
    "f) The city and country for which the average Fall temperature is above 20 degrees, in increasing temperature order."
   ]
  },
  {
   "cell_type": "code",
   "execution_count": 33,
   "id": "fc531f03",
   "metadata": {},
   "outputs": [
    {
     "name": "stdout",
     "output_type": "stream",
     "text": [
      "[('Cairo', 'Egypt'), ('Mumbai', 'India')]\n"
     ]
    }
   ],
   "source": [
    "c.execute(\"SELECT City, Country FROM weather WHERE Season = 'Fall' GROUP BY City, Country HAVING AVG(Temperature) > 20 ORDER BY AVG(Temperature) ASC\")\n",
    "fall_temp_records = c.fetchall()\n",
    "print(fall_temp_records)"
   ]
  },
  {
   "cell_type": "markdown",
   "id": "5ffc176e",
   "metadata": {},
   "source": [
    "g) The total annual rainfall for Cairo."
   ]
  },
  {
   "cell_type": "code",
   "execution_count": 34,
   "id": "ce3d427b",
   "metadata": {},
   "outputs": [
    {
     "name": "stdout",
     "output_type": "stream",
     "text": [
      "27.6\n"
     ]
    }
   ],
   "source": [
    "c.execute(\"SELECT SUM(Rainfall) AS Total_Rainfall FROM weather WHERE City = 'Cairo'\")\n",
    "cairo_rainfall = c.fetchone()[0]\n",
    "print(cairo_rainfall)"
   ]
  },
  {
   "cell_type": "markdown",
   "id": "3b95cb6e",
   "metadata": {},
   "source": [
    "h) The total rainfall for each season."
   ]
  },
  {
   "cell_type": "code",
   "execution_count": 35,
   "id": "74a4cc20",
   "metadata": {},
   "outputs": [
    {
     "name": "stdout",
     "output_type": "stream",
     "text": [
      "[('Fall', 569.0), ('Spring', 192.29999999999998), ('Summer', 1706.5), ('Winter', 230.1)]\n"
     ]
    }
   ],
   "source": [
    "c.execute(\"SELECT Season, SUM(Rainfall) AS Total_Rainfall FROM weather GROUP BY Season\")\n",
    "season_rainfall = c.fetchall()\n",
    "print(season_rainfall)"
   ]
  },
  {
   "cell_type": "markdown",
   "id": "765bb5f9",
   "metadata": {},
   "source": [
    "# Question 9:\n",
    "    \n",
    "Suppose list words is defined as follows: words = ['The', 'quick', 'brown', 'fox', 'jumps', 'over', 'the', 'lazy', 'dog'] Write list comprehension expressions that use list words and generate the following lists:"
   ]
  },
  {
   "cell_type": "code",
   "execution_count": 36,
   "id": "c4a0c342",
   "metadata": {},
   "outputs": [],
   "source": [
    "words = ['The', 'quick', 'brown', 'fox', 'jumps', 'over', 'the', 'lazy', 'dog']"
   ]
  },
  {
   "cell_type": "markdown",
   "id": "2f2bfc1d",
   "metadata": {},
   "source": [
    "a) ['THE', 'QUICK', 'BROWN', 'FOX', 'JUMPS', 'OVER', 'THE', 'LAZY', 'DOG']"
   ]
  },
  {
   "cell_type": "code",
   "execution_count": 37,
   "id": "01a0373b",
   "metadata": {},
   "outputs": [
    {
     "name": "stdout",
     "output_type": "stream",
     "text": [
      "['THE', 'QUICK', 'BROWN', 'FOX', 'JUMPS', 'OVER', 'THE', 'LAZY', 'DOG']\n"
     ]
    }
   ],
   "source": [
    "new_words = [word.upper() for word in words]\n",
    "print(new_words)"
   ]
  },
  {
   "cell_type": "markdown",
   "id": "c908dbcd",
   "metadata": {},
   "source": [
    "b) ['the', 'quick', 'brown', 'fox', 'jumps', 'over', 'the', 'lazy', 'dog']"
   ]
  },
  {
   "cell_type": "code",
   "execution_count": 38,
   "id": "c0a3eef8",
   "metadata": {},
   "outputs": [
    {
     "name": "stdout",
     "output_type": "stream",
     "text": [
      "['the', 'quick', 'brown', 'fox', 'jumps', 'over', 'the', 'lazy', 'dog']\n"
     ]
    }
   ],
   "source": [
    "new_words = [word.lower() for word in words]\n",
    "print(new_words)"
   ]
  },
  {
   "cell_type": "markdown",
   "id": "d0384da7",
   "metadata": {},
   "source": [
    "c) [3, 5, 5, 3, 5, 4, 3, 4, 3] (the list of lengths of words in list words)."
   ]
  },
  {
   "cell_type": "code",
   "execution_count": 39,
   "id": "3fcab489",
   "metadata": {},
   "outputs": [
    {
     "name": "stdout",
     "output_type": "stream",
     "text": [
      "[3, 5, 5, 3, 5, 4, 3, 4, 3]\n"
     ]
    }
   ],
   "source": [
    "word_lengths = [len(word) for word in words]\n",
    "print(word_lengths)"
   ]
  },
  {
   "cell_type": "markdown",
   "id": "36b4425f",
   "metadata": {},
   "source": [
    "d) [['THE', 'the', 3], ['QUICK', 'quick', 5], ['BROWN', 'brown', 5], ['FOX', 'fox', 3], ['JUMPS', 'jumps', 5], ['OVER', 'over', 4], ['THE', 'the', 3], ['LAZY', 'lazy', 4], ['DOG', 'dog', 3]] (the list containing a list for every word of list words, where each list contains the word in uppercase and lowercase and the length of the word.)"
   ]
  },
  {
   "cell_type": "code",
   "execution_count": 40,
   "id": "485a422c",
   "metadata": {},
   "outputs": [
    {
     "name": "stdout",
     "output_type": "stream",
     "text": [
      "[['THE', 'the', 3], ['QUICK', 'quick', 5], ['BROWN', 'brown', 5], ['FOX', 'fox', 3], ['JUMPS', 'jumps', 5], ['OVER', 'over', 4], ['THE', 'the', 3], ['LAZY', 'lazy', 4], ['DOG', 'dog', 3]]\n"
     ]
    }
   ],
   "source": [
    "new_words = [[word.upper(), word.lower(), len(word)] for word in words]\n",
    "print(new_words)"
   ]
  },
  {
   "cell_type": "markdown",
   "id": "c6a94049",
   "metadata": {},
   "source": [
    "e) ['The', 'quick', 'brown', 'fox', 'jumps', 'over', 'the', 'lazy', 'dog'] (the list of words in list words containing 4 or more characters.)"
   ]
  },
  {
   "cell_type": "code",
   "execution_count": 41,
   "id": "27aab3d9",
   "metadata": {},
   "outputs": [
    {
     "name": "stdout",
     "output_type": "stream",
     "text": [
      "['quick', 'brown', 'jumps', 'over', 'lazy']\n"
     ]
    }
   ],
   "source": [
    "new_words = [word for word in words if len(word) >= 4]\n",
    "print(new_words)"
   ]
  },
  {
   "cell_type": "code",
   "execution_count": null,
   "id": "6c39e146",
   "metadata": {},
   "outputs": [],
   "source": []
  }
 ],
 "metadata": {
  "kernelspec": {
   "display_name": "Python 3 (ipykernel)",
   "language": "python",
   "name": "python3"
  },
  "language_info": {
   "codemirror_mode": {
    "name": "ipython",
    "version": 3
   },
   "file_extension": ".py",
   "mimetype": "text/x-python",
   "name": "python",
   "nbconvert_exporter": "python",
   "pygments_lexer": "ipython3",
   "version": "3.10.9"
  }
 },
 "nbformat": 4,
 "nbformat_minor": 5
}
